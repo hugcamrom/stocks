{
 "cells": [
  {
   "cell_type": "markdown",
   "metadata": {},
   "source": [
    "# Stocks"
   ]
  },
  {
   "cell_type": "code",
   "execution_count": 21,
   "metadata": {},
   "outputs": [],
   "source": [
    "# Financial data.\n",
    "import yfinance as yf\n",
    "\n",
    "# Dates and times.\n",
    "import datetime as dt"
   ]
  },
  {
   "cell_type": "code",
   "execution_count": 22,
   "metadata": {},
   "outputs": [
    {
     "name": "stderr",
     "output_type": "stream",
     "text": [
      "[*********************100%***********************]  3 of 3 completed\n"
     ]
    }
   ],
   "source": [
    "# Get data for Microsoft, Apple, and Google.\n",
    "df = yf.download(['MSFT', 'AAPL', 'GOOG'], period=\"1d\", interval=\"1m\")"
   ]
  },
  {
   "cell_type": "code",
   "execution_count": 23,
   "metadata": {},
   "outputs": [
    {
     "data": {
      "text/html": [
       "<div>\n",
       "<style scoped>\n",
       "    .dataframe tbody tr th:only-of-type {\n",
       "        vertical-align: middle;\n",
       "    }\n",
       "\n",
       "    .dataframe tbody tr th {\n",
       "        vertical-align: top;\n",
       "    }\n",
       "\n",
       "    .dataframe thead th {\n",
       "        text-align: right;\n",
       "    }\n",
       "</style>\n",
       "<table border=\"1\" class=\"dataframe\">\n",
       "  <thead>\n",
       "    <tr style=\"text-align: right;\">\n",
       "      <th>Ticker</th>\n",
       "      <th>AAPL</th>\n",
       "      <th>GOOG</th>\n",
       "      <th>MSFT</th>\n",
       "    </tr>\n",
       "    <tr>\n",
       "      <th>Datetime</th>\n",
       "      <th></th>\n",
       "      <th></th>\n",
       "      <th></th>\n",
       "    </tr>\n",
       "  </thead>\n",
       "  <tbody>\n",
       "    <tr>\n",
       "      <th>2024-11-22 14:30:00+00:00</th>\n",
       "      <td>228.731003</td>\n",
       "      <td>166.675003</td>\n",
       "      <td>412.040009</td>\n",
       "    </tr>\n",
       "    <tr>\n",
       "      <th>2024-11-22 14:31:00+00:00</th>\n",
       "      <td>228.759995</td>\n",
       "      <td>165.720001</td>\n",
       "      <td>411.464996</td>\n",
       "    </tr>\n",
       "    <tr>\n",
       "      <th>2024-11-22 14:32:00+00:00</th>\n",
       "      <td>229.001007</td>\n",
       "      <td>166.940002</td>\n",
       "      <td>412.230011</td>\n",
       "    </tr>\n",
       "    <tr>\n",
       "      <th>2024-11-22 14:33:00+00:00</th>\n",
       "      <td>228.970001</td>\n",
       "      <td>166.860001</td>\n",
       "      <td>412.635010</td>\n",
       "    </tr>\n",
       "    <tr>\n",
       "      <th>2024-11-22 14:34:00+00:00</th>\n",
       "      <td>228.779999</td>\n",
       "      <td>167.039993</td>\n",
       "      <td>412.809906</td>\n",
       "    </tr>\n",
       "    <tr>\n",
       "      <th>...</th>\n",
       "      <td>...</td>\n",
       "      <td>...</td>\n",
       "      <td>...</td>\n",
       "    </tr>\n",
       "    <tr>\n",
       "      <th>2024-11-22 20:55:00+00:00</th>\n",
       "      <td>229.850006</td>\n",
       "      <td>166.669998</td>\n",
       "      <td>416.779999</td>\n",
       "    </tr>\n",
       "    <tr>\n",
       "      <th>2024-11-22 20:56:00+00:00</th>\n",
       "      <td>229.889999</td>\n",
       "      <td>166.610001</td>\n",
       "      <td>416.740906</td>\n",
       "    </tr>\n",
       "    <tr>\n",
       "      <th>2024-11-22 20:57:00+00:00</th>\n",
       "      <td>230.005005</td>\n",
       "      <td>166.585007</td>\n",
       "      <td>416.869995</td>\n",
       "    </tr>\n",
       "    <tr>\n",
       "      <th>2024-11-22 20:58:00+00:00</th>\n",
       "      <td>230.020004</td>\n",
       "      <td>166.610001</td>\n",
       "      <td>417.089996</td>\n",
       "    </tr>\n",
       "    <tr>\n",
       "      <th>2024-11-22 20:59:00+00:00</th>\n",
       "      <td>229.759995</td>\n",
       "      <td>166.539993</td>\n",
       "      <td>416.829987</td>\n",
       "    </tr>\n",
       "  </tbody>\n",
       "</table>\n",
       "<p>390 rows × 3 columns</p>\n",
       "</div>"
      ],
      "text/plain": [
       "Ticker                           AAPL        GOOG        MSFT\n",
       "Datetime                                                     \n",
       "2024-11-22 14:30:00+00:00  228.731003  166.675003  412.040009\n",
       "2024-11-22 14:31:00+00:00  228.759995  165.720001  411.464996\n",
       "2024-11-22 14:32:00+00:00  229.001007  166.940002  412.230011\n",
       "2024-11-22 14:33:00+00:00  228.970001  166.860001  412.635010\n",
       "2024-11-22 14:34:00+00:00  228.779999  167.039993  412.809906\n",
       "...                               ...         ...         ...\n",
       "2024-11-22 20:55:00+00:00  229.850006  166.669998  416.779999\n",
       "2024-11-22 20:56:00+00:00  229.889999  166.610001  416.740906\n",
       "2024-11-22 20:57:00+00:00  230.005005  166.585007  416.869995\n",
       "2024-11-22 20:58:00+00:00  230.020004  166.610001  417.089996\n",
       "2024-11-22 20:59:00+00:00  229.759995  166.539993  416.829987\n",
       "\n",
       "[390 rows x 3 columns]"
      ]
     },
     "execution_count": 23,
     "metadata": {},
     "output_type": "execute_result"
    }
   ],
   "source": [
    "# Just the closing prices.\n",
    "df['Close']"
   ]
  },
  {
   "cell_type": "code",
   "execution_count": 24,
   "metadata": {},
   "outputs": [
    {
     "data": {
      "text/plain": [
       "'data/20241124_153337.csv'"
      ]
     },
     "execution_count": 24,
     "metadata": {},
     "output_type": "execute_result"
    }
   ],
   "source": [
    "# Get the current date and time.\n",
    "filename = dt.datetime.now()\n",
    "# Create a string from the current date and time.\n",
    "filename = filename.strftime(\"%Y%m%d_%H%M%S\")\n",
    "# Prepend data folders, append file extension.\n",
    "filename = 'data/' + filename + \".csv\"\n",
    "\n",
    "# Show the filename.\n",
    "filename"
   ]
  },
  {
   "cell_type": "code",
   "execution_count": 25,
   "metadata": {},
   "outputs": [],
   "source": [
    "# Save the data to a CSV file.\n",
    "df['Close'].to_csv(filename)"
   ]
  },
  {
   "cell_type": "markdown",
   "metadata": {},
   "source": [
    "## 📈 Stock Data Visualisation\n",
    "\n",
    "This notebook loads the latest stock price CSV file, processes it, and generates:\n",
    "- Line chart of close prices\n",
    "- 5-minute moving averages\n",
    "- Histogram of minute-by-minute returns\n",
    "- Candlestick chart for MSFT\n",
    "---"
   ]
  },
  {
   "cell_type": "code",
   "execution_count": 4,
   "metadata": {},
   "outputs": [
    {
     "data": {
      "application/vnd.microsoft.datawrangler.viewer.v0+json": {
       "columns": [
        {
         "name": "Datetime",
         "rawType": "datetime64[ns, UTC]",
         "type": "unknown"
        },
        {
         "name": "AAPL",
         "rawType": "float64",
         "type": "float"
        },
        {
         "name": "GOOG",
         "rawType": "float64",
         "type": "float"
        },
        {
         "name": "MSFT",
         "rawType": "float64",
         "type": "float"
        }
       ],
       "ref": "6b4cb959-d777-4b89-814d-cc9320b254e5",
       "rows": [
        [
         "2024-11-22 14:30:00+00:00",
         "228.7310028076172",
         "166.6750030517578",
         "412.0400085449219"
        ],
        [
         "2024-11-22 14:31:00+00:00",
         "228.75999450683597",
         "165.72000122070312",
         "411.4649963378906"
        ],
        [
         "2024-11-22 14:32:00+00:00",
         "229.00100708007807",
         "166.94000244140625",
         "412.2300109863281"
        ],
        [
         "2024-11-22 14:33:00+00:00",
         "228.97000122070312",
         "166.86000061035156",
         "412.635009765625"
        ],
        [
         "2024-11-22 14:34:00+00:00",
         "228.77999877929688",
         "167.0399932861328",
         "412.8099060058594"
        ]
       ],
       "shape": {
        "columns": 3,
        "rows": 5
       }
      },
      "text/html": [
       "<div>\n",
       "<style scoped>\n",
       "    .dataframe tbody tr th:only-of-type {\n",
       "        vertical-align: middle;\n",
       "    }\n",
       "\n",
       "    .dataframe tbody tr th {\n",
       "        vertical-align: top;\n",
       "    }\n",
       "\n",
       "    .dataframe thead th {\n",
       "        text-align: right;\n",
       "    }\n",
       "</style>\n",
       "<table border=\"1\" class=\"dataframe\">\n",
       "  <thead>\n",
       "    <tr style=\"text-align: right;\">\n",
       "      <th></th>\n",
       "      <th>AAPL</th>\n",
       "      <th>GOOG</th>\n",
       "      <th>MSFT</th>\n",
       "    </tr>\n",
       "    <tr>\n",
       "      <th>Datetime</th>\n",
       "      <th></th>\n",
       "      <th></th>\n",
       "      <th></th>\n",
       "    </tr>\n",
       "  </thead>\n",
       "  <tbody>\n",
       "    <tr>\n",
       "      <th>2024-11-22 14:30:00+00:00</th>\n",
       "      <td>228.731003</td>\n",
       "      <td>166.675003</td>\n",
       "      <td>412.040009</td>\n",
       "    </tr>\n",
       "    <tr>\n",
       "      <th>2024-11-22 14:31:00+00:00</th>\n",
       "      <td>228.759995</td>\n",
       "      <td>165.720001</td>\n",
       "      <td>411.464996</td>\n",
       "    </tr>\n",
       "    <tr>\n",
       "      <th>2024-11-22 14:32:00+00:00</th>\n",
       "      <td>229.001007</td>\n",
       "      <td>166.940002</td>\n",
       "      <td>412.230011</td>\n",
       "    </tr>\n",
       "    <tr>\n",
       "      <th>2024-11-22 14:33:00+00:00</th>\n",
       "      <td>228.970001</td>\n",
       "      <td>166.860001</td>\n",
       "      <td>412.635010</td>\n",
       "    </tr>\n",
       "    <tr>\n",
       "      <th>2024-11-22 14:34:00+00:00</th>\n",
       "      <td>228.779999</td>\n",
       "      <td>167.039993</td>\n",
       "      <td>412.809906</td>\n",
       "    </tr>\n",
       "  </tbody>\n",
       "</table>\n",
       "</div>"
      ],
      "text/plain": [
       "                                 AAPL        GOOG        MSFT\n",
       "Datetime                                                     \n",
       "2024-11-22 14:30:00+00:00  228.731003  166.675003  412.040009\n",
       "2024-11-22 14:31:00+00:00  228.759995  165.720001  411.464996\n",
       "2024-11-22 14:32:00+00:00  229.001007  166.940002  412.230011\n",
       "2024-11-22 14:33:00+00:00  228.970001  166.860001  412.635010\n",
       "2024-11-22 14:34:00+00:00  228.779999  167.039993  412.809906"
      ]
     },
     "execution_count": 4,
     "metadata": {},
     "output_type": "execute_result"
    }
   ],
   "source": [
    "import pandas as pd\n",
    "import matplotlib.pyplot as plt\n",
    "import plotly.graph_objects as go\n",
    "\n",
    "# Use full path to your CSV\n",
    "df = pd.read_csv(r'C:\\repos\\stocks\\data\\20241124_153337.csv', index_col=0, parse_dates=True)\n",
    "\n",
    "# Show the first few rows\n",
    "df.head()"
   ]
  },
  {
   "cell_type": "code",
   "execution_count": 5,
   "metadata": {},
   "outputs": [
    {
     "name": "stderr",
     "output_type": "stream",
     "text": [
      "C:\\Users\\hugoc\\AppData\\Local\\Temp\\ipykernel_18480\\1702638509.py:8: FutureWarning: 'T' is deprecated and will be removed in a future version, please use 'min' instead.\n",
      "  ohlc = df['MSFT'].resample('5T').ohlc().dropna()\n"
     ]
    }
   ],
   "source": [
    "# Calculate moving averages\n",
    "df_ma = df.rolling(window=5).mean()\n",
    "\n",
    "# Calculate returns\n",
    "returns = df.pct_change().dropna()\n",
    "\n",
    "# Prepare OHLC data for MSFT\n",
    "ohlc = df['MSFT'].resample('5T').ohlc().dropna()"
   ]
  },
  {
   "cell_type": "code",
   "execution_count": 6,
   "metadata": {},
   "outputs": [
    {
     "data": {
      "image/png": "[encoded data removed]",
      "text/plain": [
       "<Figure size 1400x600 with 1 Axes>"
      ]
     },
     "metadata": {},
     "output_type": "display_data"
    }
   ],
   "source": [
    "plt.figure(figsize=(14, 6))\n",
    "for ticker in df.columns:\n",
    "    plt.plot(df.index, df[ticker], label=ticker)\n",
    "plt.title('1-Minute Close Prices: MSFT, AAPL, GOOG')\n",
    "plt.xlabel('Time')\n",
    "plt.ylabel('Close Price (USD)')\n",
    "plt.legend()\n",
    "plt.grid(True)\n",
    "plt.tight_layout()\n",
    "plt.show()"
   ]
  },
  {
   "cell_type": "code",
   "execution_count": 7,
   "metadata": {},
   "outputs": [
    {
     "data": {
      "image/png": "[encoded data removed]",
      "text/plain": [
       "<Figure size 1400x600 with 1 Axes>"
      ]
     },
     "metadata": {},
     "output_type": "display_data"
    }
   ],
   "source": [
    "plt.figure(figsize=(14, 6))\n",
    "for ticker in df.columns:\n",
    "    plt.plot(df_ma.index, df_ma[ticker], label=f\"{ticker} MA(5)\")\n",
    "plt.title('5-Period Moving Averages')\n",
    "plt.xlabel('Time')\n",
    "plt.ylabel('Price (USD)')\n",
    "plt.legend()\n",
    "plt.grid(True)\n",
    "plt.tight_layout()\n",
    "plt.show()"
   ]
  },
  {
   "cell_type": "code",
   "execution_count": 8,
   "metadata": {},
   "outputs": [
    {
     "data": {
      "image/png": "[encoded data removed]",
      "text/plain": [
       "<Figure size 1000x500 with 1 Axes>"
      ]
     },
     "metadata": {},
     "output_type": "display_data"
    }
   ],
   "source": [
    "plt.figure(figsize=(10, 5))\n",
    "for ticker in returns.columns:\n",
    "    returns[ticker].hist(alpha=0.5, bins=50, label=ticker)\n",
    "plt.title('Histogram of Minute-by-Minute Returns')\n",
    "plt.xlabel('Return')\n",
    "plt.ylabel('Frequency')\n",
    "plt.legend()\n",
    "plt.tight_layout()\n",
    "plt.show()"
   ]
  },
  {
   "cell_type": "code",
   "execution_count": 9,
   "metadata": {},
   "outputs": [
    {
     "data": {
      "application/vnd.plotly.v1+json": {
       "config": {
        "plotlyServerURL": "https://plot.ly"
       },
       "data": [
        {
         "close": [
          412.8099060058594,
          414.3299865722656,
          415.30999755859375,
          414.7000122070313,
          413.6351013183594,
          414.7999877929688,
          413.6625061035156,
          412.8999938964844,
          413.1842041015625,
          412.5650024414063,
          412.9599914550781,
          411.9599914550781,
          412.1203002929688,
          413.3299865722656,
          413.5513000488281,
          413.1050109863281,
          413.345703125,
          413.3500061035156,
          412.8699951171875,
          412.7650146484375,
          412.4500122070313,
          412.3900146484375,
          412.65618896484375,
          413.0499877929688,
          412.5650024414063,
          413.239990234375,
          412.5899963378906,
          412.9100036621094,
          413.9500122070313,
          413.5950012207031,
          413.6199951171875,
          413.6400146484375,
          414.2000122070313,
          414.2099914550781,
          413.9500122070313,
          414.1073913574219,
          413.9100036621094,
          413.4599914550781,
          413.6300048828125,
          413.7999877929688,
          414.6650085449219,
          414.489990234375,
          414.7999877929688,
          414.9100036621094,
          414.7300109863281,
          414.5400085449219,
          414.864990234375,
          414.5300903320313,
          415.1400146484375,
          414.7449951171875,
          414.7099914550781,
          414.5199890136719,
          414.6799926757813,
          414.5799865722656,
          414.4100036621094,
          414.6700134277344,
          415,
          414.739990234375,
          414.7999877929688,
          414.5799865722656,
          414.3406066894531,
          414.5150146484375,
          414.4400024414063,
          414.5799865722656,
          414.8800048828125,
          415,
          414.7999877929688,
          414.7699890136719,
          414.3500061035156,
          414.739990234375,
          414.6549987792969,
          414.5303039550781,
          414.8349914550781,
          414.4299926757813,
          414.2149963378906,
          414.7300109863281,
          416.135009765625,
          416.8299865722656
         ],
         "high": [
          412.8099060058594,
          414.3299865722656,
          415.30999755859375,
          415.3699951171875,
          414,
          414.7999877929688,
          414.4150085449219,
          413.5299987792969,
          413.2999877929688,
          413.0899963378906,
          413.0093994140625,
          412.7699890136719,
          412.4826965332031,
          413.3299865722656,
          413.6700134277344,
          413.78619384765625,
          413.43499755859375,
          413.3500061035156,
          413.3800048828125,
          413.0519104003906,
          412.7900085449219,
          412.5,
          412.65618896484375,
          413.0499877929688,
          412.8399963378906,
          413.239990234375,
          413.0830993652344,
          412.9100036621094,
          413.9500122070313,
          413.8500061035156,
          413.6199951171875,
          413.6400146484375,
          414.2900085449219,
          414.3576049804688,
          414.2999877929688,
          414.1073913574219,
          414.2149963378906,
          414.0050048828125,
          413.6300048828125,
          413.7999877929688,
          414.6650085449219,
          414.8699951171875,
          414.7999877929688,
          414.91510009765625,
          415.1199951171875,
          414.7900085449219,
          414.9400024414063,
          414.8873901367188,
          415.1600036621094,
          414.989990234375,
          414.7099914550781,
          414.8699951171875,
          414.6799926757813,
          414.8599853515625,
          414.5,
          414.7250061035156,
          415.0199890136719,
          414.7572021484375,
          414.8200073242188,
          414.9200134277344,
          414.52490234375,
          414.5150146484375,
          414.4400024414063,
          414.6300048828125,
          414.8800048828125,
          415.2200012207031,
          415.0199890136719,
          415.0199890136719,
          414.6600036621094,
          414.7799987792969,
          414.7403869628906,
          414.7000122070313,
          414.8349914550781,
          414.7677001953125,
          414.3096008300781,
          414.7699890136719,
          416.135009765625,
          417.0899963378906
         ],
         "low": [
          411.4649963378906,
          413.5050048828125,
          414.3200073242188,
          414.7000122070313,
          413.239990234375,
          413.6400146484375,
          413.6625061035156,
          412.8999938964844,
          412.5199890136719,
          412.5650024414063,
          412.19720458984375,
          411.739990234375,
          412.0799865722656,
          412.1300048828125,
          413.4049987792969,
          413.1050109863281,
          413.3399963378906,
          413.0899963378906,
          412.8699951171875,
          412.7650146484375,
          412.4208984375,
          412.3200073242188,
          412.0199890136719,
          412.1700134277344,
          412.4703979492188,
          412.6997985839844,
          412.5700073242188,
          412.2900085449219,
          412.9039916992188,
          413.5950012207031,
          413.4100036621094,
          413.2950134277344,
          413.7349853515625,
          414.0549926757813,
          413.9500122070313,
          413.9505920410156,
          413.8900146484375,
          413.4599914550781,
          413.5,
          413.5299987792969,
          414.2200012207031,
          414.4049987792969,
          414.4599914550781,
          414.7300109863281,
          414.7300109863281,
          414.5400085449219,
          414.4750061035156,
          414.5300903320313,
          414.8800048828125,
          414.5981140136719,
          414.6400146484375,
          414.5199890136719,
          414.4700012207031,
          414.5799865722656,
          414.3999938964844,
          414.5799865722656,
          414.6600036621094,
          414.4849853515625,
          414.6499938964844,
          414.5799865722656,
          414.3406066894531,
          414.2999877929688,
          414.2000122070313,
          414.3500061035156,
          414.5950012207031,
          415,
          414.7999877929688,
          414.7699890136719,
          414.3500061035156,
          414.4599914550781,
          414.3900146484375,
          414.5303039550781,
          414.5300903320313,
          414.4299926757813,
          414.0700073242188,
          414.4700012207031,
          415.2000122070313,
          416.7409057617188
         ],
         "open": [
          412.0400085449219,
          413.9849853515625,
          414.3200073242188,
          415.3699951171875,
          414,
          413.6400146484375,
          414.2699890136719,
          413.4599914550781,
          412.7000122070313,
          413.0499877929688,
          413.0093994140625,
          412.7699890136719,
          412.25,
          412.1300048828125,
          413.4049987792969,
          413.78619384765625,
          413.43499755859375,
          413.2199096679688,
          413.3800048828125,
          413.010009765625,
          412.7049865722656,
          412.3200073242188,
          412.0199890136719,
          412.3299865722656,
          412.7950134277344,
          412.7300109863281,
          413.0830993652344,
          412.5199890136719,
          412.9039916992188,
          413.8500061035156,
          413.4100036621094,
          413.6000061035156,
          413.7349853515625,
          414.3576049804688,
          414.2999877929688,
          413.9599914550781,
          414.2149963378906,
          414.0050048828125,
          413.5199890136719,
          413.5299987792969,
          414.3699951171875,
          414.8699951171875,
          414.5,
          414.9078979492188,
          414.75,
          414.7699890136719,
          414.4750061035156,
          414.8450012207031,
          414.8800048828125,
          414.989990234375,
          414.6449890136719,
          414.8699951171875,
          414.6400146484375,
          414.5899963378906,
          414.4403991699219,
          414.5799865722656,
          414.6600036621094,
          414.7572021484375,
          414.7699890136719,
          414.7200012207031,
          414.52490234375,
          414.510009765625,
          414.3599853515625,
          414.3800048828125,
          414.6099853515625,
          415.0249938964844,
          415.0199890136719,
          414.9599914550781,
          414.5744018554688,
          414.4599914550781,
          414.7403869628906,
          414.7000122070313,
          414.5300903320313,
          414.6900024414063,
          414.3096008300781,
          414.4700012207031,
          415.4450073242188,
          416.7799987792969
         ],
         "type": "candlestick",
         "x": [
          "2024-11-22T14:30:00+00:00",
          "2024-11-22T14:35:00+00:00",
          "2024-11-22T14:40:00+00:00",
          "2024-11-22T14:45:00+00:00",
          "2024-11-22T14:50:00+00:00",
          "2024-11-22T14:55:00+00:00",
          "2024-11-22T15:00:00+00:00",
          "2024-11-22T15:05:00+00:00",
          "2024-11-22T15:10:00+00:00",
          "2024-11-22T15:15:00+00:00",
          "2024-11-22T15:20:00+00:00",
          "2024-11-22T15:25:00+00:00",
          "2024-11-22T15:30:00+00:00",
          "2024-11-22T15:35:00+00:00",
          "2024-11-22T15:40:00+00:00",
          "2024-11-22T15:45:00+00:00",
          "2024-11-22T15:50:00+00:00",
          "2024-11-22T15:55:00+00:00",
          "2024-11-22T16:00:00+00:00",
          "2024-11-22T16:05:00+00:00",
          "2024-11-22T16:10:00+00:00",
          "2024-11-22T16:15:00+00:00",
          "2024-11-22T16:20:00+00:00",
          "2024-11-22T16:25:00+00:00",
          "2024-11-22T16:30:00+00:00",
          "2024-11-22T16:35:00+00:00",
          "2024-11-22T16:40:00+00:00",
          "2024-11-22T16:45:00+00:00",
          "2024-11-22T16:50:00+00:00",
          "2024-11-22T16:55:00+00:00",
          "2024-11-22T17:00:00+00:00",
          "2024-11-22T17:05:00+00:00",
          "2024-11-22T17:10:00+00:00",
          "2024-11-22T17:15:00+00:00",
          "2024-11-22T17:20:00+00:00",
          "2024-11-22T17:25:00+00:00",
          "2024-11-22T17:30:00+00:00",
          "2024-11-22T17:35:00+00:00",
          "2024-11-22T17:40:00+00:00",
          "2024-11-22T17:45:00+00:00",
          "2024-11-22T17:50:00+00:00",
          "2024-11-22T17:55:00+00:00",
          "2024-11-22T18:00:00+00:00",
          "2024-11-22T18:05:00+00:00",
          "2024-11-22T18:10:00+00:00",
          "2024-11-22T18:15:00+00:00",
          "2024-11-22T18:20:00+00:00",
          "2024-11-22T18:25:00+00:00",
          "2024-11-22T18:30:00+00:00",
          "2024-11-22T18:35:00+00:00",
          "2024-11-22T18:40:00+00:00",
          "2024-11-22T18:45:00+00:00",
          "2024-11-22T18:50:00+00:00",
          "2024-11-22T18:55:00+00:00",
          "2024-11-22T19:00:00+00:00",
          "2024-11-22T19:05:00+00:00",
          "2024-11-22T19:10:00+00:00",
          "2024-11-22T19:15:00+00:00",
          "2024-11-22T19:20:00+00:00",
          "2024-11-22T19:25:00+00:00",
          "2024-11-22T19:30:00+00:00",
          "2024-11-22T19:35:00+00:00",
          "2024-11-22T19:40:00+00:00",
          "2024-11-22T19:45:00+00:00",
          "2024-11-22T19:50:00+00:00",
          "2024-11-22T19:55:00+00:00",
          "2024-11-22T20:00:00+00:00",
          "2024-11-22T20:05:00+00:00",
          "2024-11-22T20:10:00+00:00",
          "2024-11-22T20:15:00+00:00",
          "2024-11-22T20:20:00+00:00",
          "2024-11-22T20:25:00+00:00",
          "2024-11-22T20:30:00+00:00",
          "2024-11-22T20:35:00+00:00",
          "2024-11-22T20:40:00+00:00",
          "2024-11-22T20:45:00+00:00",
          "2024-11-22T20:50:00+00:00",
          "2024-11-22T20:55:00+00:00"
         ]
        }
       ],
       "layout": {
        "template": {
         "data": {
          "bar": [
           {
            "error_x": {
             "color": "#2a3f5f"
            },
            "error_y": {
             "color": "#2a3f5f"
            },
            "marker": {
             "line": {
              "color": "#E5ECF6",
              "width": 0.5
             },
             "pattern": {
              "fillmode": "overlay",
              "size": 10,
              "solidity": 0.2
             }
            },
            "type": "bar"
           }
          ],
          "barpolar": [
           {
            "marker": {
             "line": {
              "color": "#E5ECF6",
              "width": 0.5
             },
             "pattern": {
              "fillmode": "overlay",
              "size": 10,
              "solidity": 0.2
             }
            },
            "type": "barpolar"
           }
          ],
          "carpet": [
           {
            "aaxis": {
             "endlinecolor": "#2a3f5f",
             "gridcolor": "white",
             "linecolor": "white",
             "minorgridcolor": "white",
             "startlinecolor": "#2a3f5f"
            },
            "baxis": {
             "endlinecolor": "#2a3f5f",
             "gridcolor": "white",
             "linecolor": "white",
             "minorgridcolor": "white",
             "startlinecolor": "#2a3f5f"
            },
            "type": "carpet"
           }
          ],
          "choropleth": [
           {
            "colorbar": {
             "outlinewidth": 0,
             "ticks": ""
            },
            "type": "choropleth"
           }
          ],
          "contour": [
           {
            "colorbar": {
             "outlinewidth": 0,
             "ticks": ""
            },
            "colorscale": [
             [
              0,
              "#0d0887"
             ],
             [
              0.1111111111111111,
              "#46039f"
             ],
             [
              0.2222222222222222,
              "#7201a8"
             ],
             [
              0.3333333333333333,
              "#9c179e"
             ],
             [
              0.4444444444444444,
              "#bd3786"
             ],
             [
              0.5555555555555556,
              "#d8576b"
             ],
             [
              0.6666666666666666,
              "#ed7953"
             ],
             [
              0.7777777777777778,
              "#fb9f3a"
             ],
             [
              0.8888888888888888,
              "#fdca26"
             ],
             [
              1,
              "#f0f921"
             ]
            ],
            "type": "contour"
           }
          ],
          "contourcarpet": [
           {
            "colorbar": {
             "outlinewidth": 0,
             "ticks": ""
            },
            "type": "contourcarpet"
           }
          ],
          "heatmap": [
           {
            "colorbar": {
             "outlinewidth": 0,
             "ticks": ""
            },
            "colorscale": [
             [
              0,
              "#0d0887"
             ],
             [
              0.1111111111111111,
              "#46039f"
             ],
             [
              0.2222222222222222,
              "#7201a8"
             ],
             [
              0.3333333333333333,
              "#9c179e"
             ],
             [
              0.4444444444444444,
              "#bd3786"
             ],
             [
              0.5555555555555556,
              "#d8576b"
             ],
             [
              0.6666666666666666,
              "#ed7953"
             ],
             [
              0.7777777777777778,
              "#fb9f3a"
             ],
             [
              0.8888888888888888,
              "#fdca26"
             ],
             [
              1,
              "#f0f921"
             ]
            ],
            "type": "heatmap"
           }
          ],
          "heatmapgl": [
           {
            "colorbar": {
             "outlinewidth": 0,
             "ticks": ""
            },
            "colorscale": [
             [
              0,
              "#0d0887"
             ],
             [
              0.1111111111111111,
              "#46039f"
             ],
             [
              0.2222222222222222,
              "#7201a8"
             ],
             [
              0.3333333333333333,
              "#9c179e"
             ],
             [
              0.4444444444444444,
              "#bd3786"
             ],
             [
              0.5555555555555556,
              "#d8576b"
             ],
             [
              0.6666666666666666,
              "#ed7953"
             ],
             [
              0.7777777777777778,
              "#fb9f3a"
             ],
             [
              0.8888888888888888,
              "#fdca26"
             ],
             [
              1,
              "#f0f921"
             ]
            ],
            "type": "heatmapgl"
           }
          ],
          "histogram": [
           {
            "marker": {
             "pattern": {
              "fillmode": "overlay",
              "size": 10,
              "solidity": 0.2
             }
            },
            "type": "histogram"
           }
          ],
          "histogram2d": [
           {
            "colorbar": {
             "outlinewidth": 0,
             "ticks": ""
            },
            "colorscale": [
             [
              0,
              "#0d0887"
             ],
             [
              0.1111111111111111,
              "#46039f"
             ],
             [
              0.2222222222222222,
              "#7201a8"
             ],
             [
              0.3333333333333333,
              "#9c179e"
             ],
             [
              0.4444444444444444,
              "#bd3786"
             ],
             [
              0.5555555555555556,
              "#d8576b"
             ],
             [
              0.6666666666666666,
              "#ed7953"
             ],
             [
              0.7777777777777778,
              "#fb9f3a"
             ],
             [
              0.8888888888888888,
              "#fdca26"
             ],
             [
              1,
              "#f0f921"
             ]
            ],
            "type": "histogram2d"
           }
          ],
          "histogram2dcontour": [
           {
            "colorbar": {
             "outlinewidth": 0,
             "ticks": ""
            },
            "colorscale": [
             [
              0,
              "#0d0887"
             ],
             [
              0.1111111111111111,
              "#46039f"
             ],
             [
              0.2222222222222222,
              "#7201a8"
             ],
             [
              0.3333333333333333,
              "#9c179e"
             ],
             [
              0.4444444444444444,
              "#bd3786"
             ],
             [
              0.5555555555555556,
              "#d8576b"
             ],
             [
              0.6666666666666666,
              "#ed7953"
             ],
             [
              0.7777777777777778,
              "#fb9f3a"
             ],
             [
              0.8888888888888888,
              "#fdca26"
             ],
             [
              1,
              "#f0f921"
             ]
            ],
            "type": "histogram2dcontour"
           }
          ],
          "mesh3d": [
           {
            "colorbar": {
             "outlinewidth": 0,
             "ticks": ""
            },
            "type": "mesh3d"
           }
          ],
          "parcoords": [
           {
            "line": {
             "colorbar": {
              "outlinewidth": 0,
              "ticks": ""
             }
            },
            "type": "parcoords"
           }
          ],
          "pie": [
           {
            "automargin": true,
            "type": "pie"
           }
          ],
          "scatter": [
           {
            "fillpattern": {
             "fillmode": "overlay",
             "size": 10,
             "solidity": 0.2
            },
            "type": "scatter"
           }
          ],
          "scatter3d": [
           {
            "line": {
             "colorbar": {
              "outlinewidth": 0,
              "ticks": ""
             }
            },
            "marker": {
             "colorbar": {
              "outlinewidth": 0,
              "ticks": ""
             }
            },
            "type": "scatter3d"
           }
          ],
          "scattercarpet": [
           {
            "marker": {
             "colorbar": {
              "outlinewidth": 0,
              "ticks": ""
             }
            },
            "type": "scattercarpet"
           }
          ],
          "scattergeo": [
           {
            "marker": {
             "colorbar": {
              "outlinewidth": 0,
              "ticks": ""
             }
            },
            "type": "scattergeo"
           }
          ],
          "scattergl": [
           {
            "marker": {
             "colorbar": {
              "outlinewidth": 0,
              "ticks": ""
             }
            },
            "type": "scattergl"
           }
          ],
          "scattermapbox": [
           {
            "marker": {
             "colorbar": {
              "outlinewidth": 0,
              "ticks": ""
             }
            },
            "type": "scattermapbox"
           }
          ],
          "scatterpolar": [
           {
            "marker": {
             "colorbar": {
              "outlinewidth": 0,
              "ticks": ""
             }
            },
            "type": "scatterpolar"
           }
          ],
          "scatterpolargl": [
           {
            "marker": {
             "colorbar": {
              "outlinewidth": 0,
              "ticks": ""
             }
            },
            "type": "scatterpolargl"
           }
          ],
          "scatterternary": [
           {
            "marker": {
             "colorbar": {
              "outlinewidth": 0,
              "ticks": ""
             }
            },
            "type": "scatterternary"
           }
          ],
          "surface": [
           {
            "colorbar": {
             "outlinewidth": 0,
             "ticks": ""
            },
            "colorscale": [
             [
              0,
              "#0d0887"
             ],
             [
              0.1111111111111111,
              "#46039f"
             ],
             [
              0.2222222222222222,
              "#7201a8"
             ],
             [
              0.3333333333333333,
              "#9c179e"
             ],
             [
              0.4444444444444444,
              "#bd3786"
             ],
             [
              0.5555555555555556,
              "#d8576b"
             ],
             [
              0.6666666666666666,
              "#ed7953"
             ],
             [
              0.7777777777777778,
              "#fb9f3a"
             ],
             [
              0.8888888888888888,
              "#fdca26"
             ],
             [
              1,
              "#f0f921"
             ]
            ],
            "type": "surface"
           }
          ],
          "table": [
           {
            "cells": {
             "fill": {
              "color": "#EBF0F8"
             },
             "line": {
              "color": "white"
             }
            },
            "header": {
             "fill": {
              "color": "#C8D4E3"
             },
             "line": {
              "color": "white"
             }
            },
            "type": "table"
           }
          ]
         },
         "layout": {
          "annotationdefaults": {
           "arrowcolor": "#2a3f5f",
           "arrowhead": 0,
           "arrowwidth": 1
          },
          "autotypenumbers": "strict",
          "coloraxis": {
           "colorbar": {
            "outlinewidth": 0,
            "ticks": ""
           }
          },
          "colorscale": {
           "diverging": [
            [
             0,
             "#8e0152"
            ],
            [
             0.1,
             "#c51b7d"
            ],
            [
             0.2,
             "#de77ae"
            ],
            [
             0.3,
             "#f1b6da"
            ],
            [
             0.4,
             "#fde0ef"
            ],
            [
             0.5,
             "#f7f7f7"
            ],
            [
             0.6,
             "#e6f5d0"
            ],
            [
             0.7,
             "#b8e186"
            ],
            [
             0.8,
             "#7fbc41"
            ],
            [
             0.9,
             "#4d9221"
            ],
            [
             1,
             "#276419"
            ]
           ],
           "sequential": [
            [
             0,
             "#0d0887"
            ],
            [
             0.1111111111111111,
             "#46039f"
            ],
            [
             0.2222222222222222,
             "#7201a8"
            ],
            [
             0.3333333333333333,
             "#9c179e"
            ],
            [
             0.4444444444444444,
             "#bd3786"
            ],
            [
             0.5555555555555556,
             "#d8576b"
            ],
            [
             0.6666666666666666,
             "#ed7953"
            ],
            [
             0.7777777777777778,
             "#fb9f3a"
            ],
            [
             0.8888888888888888,
             "#fdca26"
            ],
            [
             1,
             "#f0f921"
            ]
           ],
           "sequentialminus": [
            [
             0,
             "#0d0887"
            ],
            [
             0.1111111111111111,
             "#46039f"
            ],
            [
             0.2222222222222222,
             "#7201a8"
            ],
            [
             0.3333333333333333,
             "#9c179e"
            ],
            [
             0.4444444444444444,
             "#bd3786"
            ],
            [
             0.5555555555555556,
             "#d8576b"
            ],
            [
             0.6666666666666666,
             "#ed7953"
            ],
            [
             0.7777777777777778,
             "#fb9f3a"
            ],
            [
             0.8888888888888888,
             "#fdca26"
            ],
            [
             1,
             "#f0f921"
            ]
           ]
          },
          "colorway": [
           "#636efa",
           "#EF553B",
           "#00cc96",
           "#ab63fa",
           "#FFA15A",
           "#19d3f3",
           "#FF6692",
           "#B6E880",
           "#FF97FF",
           "#FECB52"
          ],
          "font": {
           "color": "#2a3f5f"
          },
          "geo": {
           "bgcolor": "white",
           "lakecolor": "white",
           "landcolor": "#E5ECF6",
           "showlakes": true,
           "showland": true,
           "subunitcolor": "white"
          },
          "hoverlabel": {
           "align": "left"
          },
          "hovermode": "closest",
          "mapbox": {
           "style": "light"
          },
          "paper_bgcolor": "white",
          "plot_bgcolor": "#E5ECF6",
          "polar": {
           "angularaxis": {
            "gridcolor": "white",
            "linecolor": "white",
            "ticks": ""
           },
           "bgcolor": "#E5ECF6",
           "radialaxis": {
            "gridcolor": "white",
            "linecolor": "white",
            "ticks": ""
           }
          },
          "scene": {
           "xaxis": {
            "backgroundcolor": "#E5ECF6",
            "gridcolor": "white",
            "gridwidth": 2,
            "linecolor": "white",
            "showbackground": true,
            "ticks": "",
            "zerolinecolor": "white"
           },
           "yaxis": {
            "backgroundcolor": "#E5ECF6",
            "gridcolor": "white",
            "gridwidth": 2,
            "linecolor": "white",
            "showbackground": true,
            "ticks": "",
            "zerolinecolor": "white"
           },
           "zaxis": {
            "backgroundcolor": "#E5ECF6",
            "gridcolor": "white",
            "gridwidth": 2,
            "linecolor": "white",
            "showbackground": true,
            "ticks": "",
            "zerolinecolor": "white"
           }
          },
          "shapedefaults": {
           "line": {
            "color": "#2a3f5f"
           }
          },
          "ternary": {
           "aaxis": {
            "gridcolor": "white",
            "linecolor": "white",
            "ticks": ""
           },
           "baxis": {
            "gridcolor": "white",
            "linecolor": "white",
            "ticks": ""
           },
           "bgcolor": "#E5ECF6",
           "caxis": {
            "gridcolor": "white",
            "linecolor": "white",
            "ticks": ""
           }
          },
          "title": {
           "x": 0.05
          },
          "xaxis": {
           "automargin": true,
           "gridcolor": "white",
           "linecolor": "white",
           "ticks": "",
           "title": {
            "standoff": 15
           },
           "zerolinecolor": "white",
           "zerolinewidth": 2
          },
          "yaxis": {
           "automargin": true,
           "gridcolor": "white",
           "linecolor": "white",
           "ticks": "",
           "title": {
            "standoff": 15
           },
           "zerolinecolor": "white",
           "zerolinewidth": 2
          }
         }
        },
        "title": {
         "text": "MSFT 5-Minute Candlestick Chart"
        },
        "xaxis": {
         "title": {
          "text": "Time"
         }
        },
        "yaxis": {
         "title": {
          "text": "Price (USD)"
         }
        }
       }
      }
     },
     "metadata": {},
     "output_type": "display_data"
    }
   ],
   "source": [
    "fig = go.Figure(data=[go.Candlestick(x=ohlc.index,\n",
    "                open=ohlc['open'],\n",
    "                high=ohlc['high'],\n",
    "                low=ohlc['low'],\n",
    "                close=ohlc['close'])])\n",
    "fig.update_layout(title='MSFT 5-Minute Candlestick Chart',\n",
    "                  xaxis_title='Time',\n",
    "                  yaxis_title='Price (USD)')\n",
    "fig.show()"
   ]
  },
  {
   "cell_type": "markdown",
   "metadata": {},
   "source": [
    "## End"
   ]
  }
 ],
 "metadata": {
  "kernelspec": {
   "display_name": "base",
   "language": "python",
   "name": "python3"
  },
  "language_info": {
   "codemirror_mode": {
    "name": "ipython",
    "version": 3
   },
   "file_extension": ".py",
   "mimetype": "text/x-python",
   "name": "python",
   "nbconvert_exporter": "python",
   "pygments_lexer": "ipython3",
   "version": "3.12.4"
  }
 },
 "nbformat": 4,
 "nbformat_minor": 2
}
